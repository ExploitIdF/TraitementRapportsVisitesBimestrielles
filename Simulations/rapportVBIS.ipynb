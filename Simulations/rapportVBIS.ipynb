{
 "cells": [
  {
   "cell_type": "code",
   "execution_count": 42,
   "metadata": {},
   "outputs": [],
   "source": [
    "#! pip install -r requirements.txt\n",
    "import pandas as pd, numpy as np\n",
    "import glob, re,json,io,os\n",
    "from datetime import datetime, timedelta\n",
    "import plotly.graph_objects as go\n",
    "pd.options.display.max_colwidth = 100\n",
    "from numpy.random import random\n",
    "from numpy.random import choice\n",
    "rng = np.random.default_rng()\n",
    "from google.cloud import bigquery,storage\n",
    "project_id = 'dett-stt'\n",
    "clientB = bigquery.Client(project_id)\n",
    "storageC=storage.Client(project_id)\n"
   ]
  },
  {
   "cell_type": "code",
   "execution_count": null,
   "metadata": {},
   "outputs": [],
   "source": [
    "#@title Lecture des issues et fermetures et génération des horodates de visites d'issues programmées\n",
    "issues=pd.read_csv('https://exploitidf.github.io/IssuesTunnels/_downloads/caee2520ef1721f8437118adc2284ddf/issuesFermetures.csv')[[  'Tatouage',   'Fermeture']]\n",
    "fermetures=issues['Fermeture'].value_counts()\n",
    "lenFer=len(fermetures )\n",
    "VisiteIssues=[]\n",
    "for k in range(6):\n",
    "  jours=pd.Series([(5+k*8)*7+ int(random()*4)*7+int(random()*4) for i in range(lenFer)],index=fermetures.index,name='jour')\n",
    "  fermTmp=pd.concat([fermetures,jours],axis=1)\n",
    "  isInd=issues.join(jours,on='Fermeture')\n",
    "  isInd.index=[k*1000+j for j in issues.index]\n",
    "  isInd['OT']=[345467+13000*k+m for m in issues.index]\n",
    "  isInd['ordreVB']=k\n",
    "  VisiteIssues.append(isInd)\n",
    "VisiteIssues=pd.concat(VisiteIssues)\n",
    "minutes=pd.Series([int(random()*240) for i in range(len(VisiteIssues))],index=VisiteIssues.index,name='minute')\n",
    "VisiteIssues=pd.concat([VisiteIssues,minutes],axis=1)\n",
    "VisiteIssues['HoroDate']=pd.to_datetime(\"24/\"+VisiteIssues['jour'].astype(str)+\" 23\",format='%y/%j %H')+pd.to_timedelta(VisiteIssues['minute']*60000000000)\n",
    "VisiteIssues=VisiteIssues[['Fermeture','ordreVB', 'OT','Tatouage', 'HoroDate']].reset_index(drop=True)\n"
   ]
  },
  {
   "cell_type": "code",
   "execution_count": null,
   "metadata": {},
   "outputs": [],
   "source": []
  },
  {
   "cell_type": "code",
   "execution_count": 29,
   "metadata": {},
   "outputs": [],
   "source": [
    "# Lecture du tableau des points de contrôle initial. Ce format devrait changer ...\n",
    "vbIa=pd.read_csv('../_static/controleVB_IA.csv',encoding='UTF-8').iloc[:,1:]\n",
    "lstPC=vbIa['PointControle'].value_counts().reset_index()\n",
    "lstPC['ordrePC']=lstPC['PointControle'].str.split('.').apply(lambda x: x[0]).astype(int).astype(str).str.zfill(2) \n",
    "lstPC=lstPC.sort_values('ordrePC').reset_index(drop=True) #.set_index('ordrePC',drop=True)\n",
    "lstLst=[]\n",
    "for i in range(len(lstPC)) :\n",
    "  vbIi=vbIa[vbIa['PointControle']==lstPC.loc[i,'PointControle']]\n",
    "  lstCom=[]\n",
    "  for j in vbIi.index:\n",
    "    lstCom.append(vbIi.loc[j,'Note'][0]+'_'+vbIi.loc[j,'ResulControle'])\n",
    "  lstLst.append(sorted(lstCom, reverse=False))\n",
    "\n",
    "lstNbrResul=[len(ll) for ll in lstLst]\n",
    "lsP=[[round(.2/(i-1),3)]*(i-1) +[.8]    for i in lstNbrResul]\n",
    "lstLstR=[['R'+str(i) for i in range(j)] for j in lstNbrResul ]\n",
    "\n",
    "tabRC=[]\n",
    "for i in range(len(lstPC)) :\n",
    "  for j in range(lstNbrResul[i]) :\n",
    "    tabRC.append(['P'+ lstPC.loc[i,'ordrePC'], lstPC.loc[i,'PointControle'],lstLstR[i][j],lstLst[i][j],lsP[i][j]  ] )\n",
    "pd.DataFrame(tabRC,columns=['codePC','PC','codeRC', 'RC', 'Probab']).to_csv('controleVB_IS.csv',index=False)\n",
    "# Dans le futur, on devrait entrer directement une table de ce type.\n"
   ]
  },
  {
   "cell_type": "code",
   "execution_count": null,
   "metadata": {},
   "outputs": [],
   "source": [
    "def simuRapp(ferm,j):\n",
    "    vst=VisiteIssues[(VisiteIssues['Fermeture']==ferm)&(VisiteIssues['ordreVB']==j)].reset_index(drop=True)  \n",
    "    for k in range(len(vst)):\n",
    "        dateFichier= str(int((vst.loc[k,'HoroDate']-datetime(2024,1,1)).total_seconds()+1000*random()))\n",
    "        flNm='24-3/ISVB-'+ str(vst.loc[k,'OT'])+'-'+dateFichier+ '.json'\n",
    "        with open(flNm,'w') as fl:\n",
    "            fl.write('{')\n",
    "            fl.write('\"Tatouage\":\"'+str(VisiteIssues.loc[k,'Tatouage'])+'\",')\n",
    "            fl.write('\"HoroDate\":\"'+str(VisiteIssues.loc[k,'HoroDate'])+'\",')\n",
    "            fl.write('\"Agent\":\"'+choice(['Karl','Karen', 'Kim','Kamel','Kun']) +'\",')\n",
    "            fl.write('\"PC'+str(0)+'\":\"'+choice(a=lstLstR[0])+'\"')\n",
    "            for n in range(1,len(lstPC)):\n",
    "                fl.write(' ,\"PC'+str(n)+'\":\"'+choice(a=lstLstR[n])+'\"') \n",
    "                fl.write('}')\n"
   ]
  },
  {
   "cell_type": "code",
   "execution_count": null,
   "metadata": {},
   "outputs": [],
   "source": [
    "# Création des rapports avec une probabilité variable par fermeture et par issue\n",
    "if False :\n",
    "    for ferm in list(fermetures.index):\n",
    "        rndF=round((random())**.2,3)*4\n",
    "        for j in range(6):\n",
    "            if (rndF+(random()**5))>3:\n",
    "                simuRapp(ferm,j)"
   ]
  },
  {
   "cell_type": "code",
   "execution_count": 39,
   "metadata": {},
   "outputs": [
    {
     "data": {
      "text/plain": [
       "862.0    6\n",
       "874.0    6\n",
       "924.0    6\n",
       "Name: count, dtype: int64"
      ]
     },
     "execution_count": 39,
     "metadata": {},
     "output_type": "execute_result"
    }
   ],
   "source": [
    "fermetures\n",
    "ll=[]\n",
    "for i in range(999):\n",
    "    ll.append(round((random())**.5,3)*1000)\n",
    "pd.Series(ll).value_counts().iloc[:3]"
   ]
  },
  {
   "cell_type": "code",
   "execution_count": null,
   "metadata": {},
   "outputs": [
    {
     "data": {
      "text/plain": [
       "['ISVB-345467-4840330.json',\n",
       " 'ISVB-345467-5012025.json',\n",
       " 'ISVB-345468-4841846.json']"
      ]
     },
     "execution_count": 46,
     "metadata": {},
     "output_type": "execute_result"
    }
   ],
   "source": [
    "filenames = next(os.walk('24-3'), (None, None, []))[2]\n",
    "len(filenames)\n"
   ]
  },
  {
   "cell_type": "code",
   "execution_count": 78,
   "metadata": {},
   "outputs": [],
   "source": [
    "# https://storage.googleapis.com/issues-secours/rapports-visites/345512-3207090.json\n",
    "\n",
    "blobs = storageC.list_blobs(bucket)\n",
    "for blob in blobs:\n",
    "    if 'ISV' in blob.name:\n",
    "        blob.delete()\n",
    "\n",
    "from time import sleep\n",
    "bucket = storageC.get_bucket('issues-secours')\n",
    "for fl in filenames[:10]:\n",
    "    blob = bucket.blob('rapports-visites/'+fl)\n",
    "    blob.upload_from_filename('24-3/'+ fl, if_generation_match= 0)\n",
    "    sleep(3)\n",
    "\n",
    "\n",
    "\n"
   ]
  },
  {
   "cell_type": "code",
   "execution_count": 73,
   "metadata": {},
   "outputs": [
    {
     "name": "stdout",
     "output_type": "stream",
     "text": [
      "rapports-visites/ISVB-345467-4840330.json\n",
      "rapports-visites/ISVB-345467-5012025.json\n",
      "rapports-visites/ISVB-345468-4841846.json\n",
      "rapports-visites/ISVB-345468-5012845.json\n",
      "rapports-visites/ISVB-345469-4839847.json\n",
      "rapports-visites/ISVB-345469-5008993.json\n",
      "rapports-visites/ISVB-345470-4842791.json\n",
      "rapports-visites/ISVB-345470-5008322.json\n",
      "rapports-visites/ISVB-345471-4838914.json\n",
      "rapports-visites/ISVB-345471-5011273.json\n",
      "rapports-visites/ISVB-345472-4840063.json\n",
      "rapports-visites/ISVB-345472-5012302.json\n",
      "rapports-visites/ISVB-345473-4836587.json\n",
      "rapports-visites/ISVB-345473-5011539.json\n",
      "rapports-visites/ISVB-345474-4835922.json\n",
      "rapports-visites/ISVB-345474-5014200.json\n",
      "rapports-visites/ISVB-345475-4849427.json\n",
      "rapports-visites/ISVB-345475-5015140.json\n",
      "rapports-visites/ISVB-345476-4842508.json\n",
      "rapports-visites/ISVB-345476-5019667.json\n"
     ]
    }
   ],
   "source": [
    "blobs = storageC.list_blobs(bucket)\n",
    "for blob in blobs:\n",
    "    if 'ISV' in blob.name:\n",
    "        print(blob.name)\n",
    "        blob.delete()"
   ]
  },
  {
   "cell_type": "code",
   "execution_count": null,
   "metadata": {},
   "outputs": [],
   "source": []
  }
 ],
 "metadata": {
  "kernelspec": {
   "display_name": ".venv",
   "language": "python",
   "name": "python3"
  },
  "language_info": {
   "codemirror_mode": {
    "name": "ipython",
    "version": 3
   },
   "file_extension": ".py",
   "mimetype": "text/x-python",
   "name": "python",
   "nbconvert_exporter": "python",
   "pygments_lexer": "ipython3",
   "version": "3.11.5"
  }
 },
 "nbformat": 4,
 "nbformat_minor": 2
}
